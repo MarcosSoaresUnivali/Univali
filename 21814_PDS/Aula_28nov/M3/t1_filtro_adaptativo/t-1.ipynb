{
 "cells": [
  {
   "cell_type": "markdown",
   "metadata": {},
   "source": [
    "# My first   - https://github.com/MarcosSoaresUnivali/Univali/blob/592dbcc6b81649c9ce358f2cd25c8453636f37cd/21814_PDS/Aula_28nov/M3/t1_filtro_adaptativo/Coeficiente_MM_8.dat\n"
   ]
  },
  {
   "cell_type": "code",
   "execution_count": 1,
   "metadata": {},
   "outputs": [
    {
     "name": "stdout",
     "output_type": "stream",
     "text": [
      "Hello world!\n"
     ]
    }
   ],
   "source": [
    "print(\"Hello world!\")"
   ]
  },
  {
   "cell_type": "code",
   "execution_count": 2,
   "metadata": {},
   "outputs": [],
   "source": [
    "import numpy as np\n",
    "import matplotlib.pyplot as plt"
   ]
  },
  {
   "cell_type": "code",
   "execution_count": 7,
   "metadata": {},
   "outputs": [
    {
     "ename": "SyntaxError",
     "evalue": "(unicode error) 'unicodeescape' codec can't decode bytes in position 2-3: truncated \\UXXXXXXXX escape (2545620939.py, line 2)",
     "output_type": "error",
     "traceback": [
      "\u001b[0;36m  Cell \u001b[0;32mIn[7], line 2\u001b[0;36m\u001b[0m\n\u001b[0;31m    with open('C:\\Users\\androidstudio\\OneDrive - UNIVALI\\MarcosSoaresUnivali\\Univali\\21814_PDS\\Aula_28nov\\M3\\t1_filtro_adaptativo\\Coeficiente_MM_8.dat', 'r') as f:\u001b[0m\n\u001b[0m                                                                                                                                                       ^\u001b[0m\n\u001b[0;31mSyntaxError\u001b[0m\u001b[0;31m:\u001b[0m (unicode error) 'unicodeescape' codec can't decode bytes in position 2-3: truncated \\UXXXXXXXX escape\n"
     ]
    }
   ],
   "source": [
    "# Carregar Coeficientes\n",
    "with open('C:\\Users\\androidstudio\\OneDrive - UNIVALI\\MarcosSoaresUnivali\\Univali\\21814_PDS\\Aula_28nov\\M3\\t1_filtro_adaptativo\\Coeficiente_MM_8.dat', 'r') as f:\n",
    "    coefs= [line.strip().replace(',', '') for line in f]"
   ]
  }
 ],
 "metadata": {
  "kernelspec": {
   "display_name": "Python 3 (ipykernel)",
   "language": "python",
   "name": "python3"
  },
  "language_info": {
   "codemirror_mode": {
    "name": "ipython",
    "version": 3
   },
   "file_extension": ".py",
   "mimetype": "text/x-python",
   "name": "python",
   "nbconvert_exporter": "python",
   "pygments_lexer": "ipython3",
   "version": "3.10.13"
  },
  "orig_nbformat": 4
 },
 "nbformat": 4,
 "nbformat_minor": 2
}
