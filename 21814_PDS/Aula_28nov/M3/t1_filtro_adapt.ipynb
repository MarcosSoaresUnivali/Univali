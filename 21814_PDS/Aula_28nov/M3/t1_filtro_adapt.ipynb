{
 "cells": [
  {
   "cell_type": "markdown",
   "metadata": {},
   "source": [
    "# t1_filtro_adapt - DSP - Marcos Paulo Soares - [Eng. Computação]\n",
    "<img src='Aula_filtro_adapt.jpg' width=\"600\" height=\"480\">\n",
    "<img src='LMS.jpg' width=\"600\" height=\"480\">\n",
    "https://youtu.be/F8QRibqxTU8?si=xTBWWlUfbgzfjqZ0"
   ]
  },
  {
   "cell_type": "code",
   "execution_count": null,
   "metadata": {},
   "outputs": [],
   "source": [
    "import numpy as np\n",
    "import matplotlib.pyplot as plt\n",
    "import os\n",
    "os.getcwd()"
   ]
  },
  {
   "cell_type": "code",
   "execution_count": null,
   "metadata": {},
   "outputs": [],
   "source": [
    "# Carregar Coeficientes\n",
    "#with open('Coeficiente_MM_8.dat', 'r') as f:\n",
    "#    coefs= [line.strip().replace(',', '') for line in f]\n",
    " with open('Coeficiente_PB.dat', 'r') as f:\n",
    "     coefs= [line.strip().replace(',', '') for line in f]\n",
    "coefs"
   ]
  },
  {
   "cell_type": "code",
   "execution_count": null,
   "metadata": {},
   "outputs": [],
   "source": [
    "coef = np.zeros(len(coefs))\n",
    "print(coefs)\n",
    "for i in range(len(coefs)):\n",
    "    coef[i] = np.float64(coefs[i].split(','))\n",
    "print(coef)"
   ]
  },
  {
   "cell_type": "code",
   "execution_count": null,
   "metadata": {},
   "outputs": [],
   "source": [
    "# Carregar Entrada\n",
    "with open('ruido_branco.pcm', 'rb') as fid:\n",
    "    x = np.fromfile(fid, np.int16)\n",
    "fid.close()\n",
    "\n",
    "print(len(x))"
   ]
  },
  {
   "cell_type": "markdown",
   "metadata": {},
   "source": [
    "# Amostras desejadas - Cálculo\n",
    "<img src='LMS_d.jpg' width=\"600\" height=\"480\">"
   ]
  },
  {
   "cell_type": "code",
   "execution_count": null,
   "metadata": {},
   "outputs": [],
   "source": [
    "#u = 0.00000000009\n",
    "u = 0.00000000007\n",
    "#u = 0.00000002     # nao converge..\n",
    "#u = 0.0000000000005  # passso, quanto menor melhor\n",
    "K = 100            # COEF DESEJADOS\n",
    "N = len(x)         # qntd de amostras\n",
    "\n",
    "d = np.zeros(len(x))\n",
    "e = np.zeros(len(x))\n",
    "y = np.zeros(len(x), dtype=np.int16)\n",
    "w = np.zeros(K)\n",
    "\n",
    "amostrasD = np.zeros(len(coef))\n",
    "amostrasY = np.zeros(len(w))\n",
    "\n",
    "print(amostrasD)\n",
    "print(amostrasY)"
   ]
  },
  {
   "cell_type": "code",
   "execution_count": null,
   "metadata": {},
   "outputs": [],
   "source": [
    "########################################################\n",
    "# Sinal Esperado\n",
    "# Ruido branco * coeficiente da desconhecido (MM)\n",
    "########################################################\n",
    "for i in range(len(x)):\n",
    "    for j in range(len(coef)):\n",
    "        if (i - j) >= 0:\n",
    "            amostrasD[j] = x[i - j] * float(coef[j])\n",
    "    d[i] = amostrasD.sum()\n",
    "\n",
    "print(amostrasD)"
   ]
  },
  {
   "cell_type": "code",
   "execution_count": null,
   "metadata": {},
   "outputs": [],
   "source": [
    "########################################################\n",
    "# Sinal Atual\n",
    "# Ruido branco * coeficiente que estamos descobrindo (vai iniciar com 0)\n",
    "########################################################\n",
    "for i in range(len(x)):\n",
    "    for j in range(len(w)):\n",
    "        if (i - j) >= 0:\n",
    "            amostrasY[j] = x[i-j] * float(w[j])\n",
    "    y[i] = amostrasY.sum()\n",
    "    # Calcula o erro entre o esperado e o que temos\n",
    "    e[i] = d[i] - y[i]    \n",
    "    # Calcula os novos coef\n",
    "    for k in range(len(w)):\n",
    "        if (i - k) >= 0:\n",
    "            w[k] = w[k] + (u * e[i] * x[i-k])\n",
    "\n",
    "#print(amostrasY)\n",
    "#print(y)\n",
    "print(e)\n",
    "print(w)"
   ]
  },
  {
   "cell_type": "code",
   "execution_count": null,
   "metadata": {},
   "outputs": [],
   "source": [
    "plt.subplot(3,1,1)\n",
    "plt.plot(d, 'b')\n",
    "plt.title(\"Entrada\")\n",
    "plt.grid()\n",
    "plt.subplot(3,1,2)\n",
    "plt.plot(y, 'r')\n",
    "plt.title(\"Saída\")\n",
    "plt.grid()\n",
    "plt.tight_layout()\n",
    "plt.subplot(3,1,3)\n",
    "plt.plot(e, 'r')\n",
    "plt.title(\"Erro\")\n",
    "plt.grid()\n",
    "plt.show()\n",
    "\n",
    "print(w)"
   ]
  },
  {
   "cell_type": "code",
   "execution_count": null,
   "metadata": {},
   "outputs": [],
   "source": [
    "with open(\"saida_lms.pcm\", 'w') as fid:\n",
    "    np.array(y, dtype=np.int16).tofile(fid)\n",
    "fid.close()\n",
    "\n",
    "with open(\"saida_lms_d.pcm\", 'w') as fid:\n",
    "    np.array(d, dtype=np.int16).tofile(fid)\n",
    "fid.close()"
   ]
  }
 ],
 "metadata": {
  "kernelspec": {
   "display_name": "Python 3 (ipykernel)",
   "language": "python",
   "name": "python3"
  },
  "language_info": {
   "codemirror_mode": {
    "name": "ipython",
    "version": 3
   },
   "file_extension": ".py",
   "mimetype": "text/x-python",
   "name": "python",
   "nbconvert_exporter": "python",
   "pygments_lexer": "ipython3",
   "version": "3.11.5"
  }
 },
 "nbformat": 4,
 "nbformat_minor": 4
}
